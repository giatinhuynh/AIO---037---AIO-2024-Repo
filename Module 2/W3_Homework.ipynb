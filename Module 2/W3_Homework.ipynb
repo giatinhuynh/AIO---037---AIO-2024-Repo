{
  "nbformat": 4,
  "nbformat_minor": 0,
  "metadata": {
    "colab": {
      "provenance": []
    },
    "kernelspec": {
      "name": "python3",
      "display_name": "Python 3"
    },
    "language_info": {
      "name": "python"
    }
  },
  "cells": [
    {
      "cell_type": "code",
      "execution_count": null,
      "metadata": {
        "id": "lp3YMP6q0_Qk"
      },
      "outputs": [],
      "source": [
        "import numpy as np\n",
        "\n",
        "def create_train_data():\n",
        "    data = [\n",
        "        ['Sunny', 'Hot', 'High', 'Weak', 'No'],\n",
        "        ['Sunny', 'Hot', 'High', 'Strong', 'No'],\n",
        "        ['Overcast', 'Hot', 'High', 'Weak', 'Yes'],\n",
        "        ['Rain', 'Mild', 'High', 'Weak', 'Yes'],\n",
        "        ['Rain', 'Cool', 'Normal', 'Weak', 'Yes'],\n",
        "        ['Rain', 'Cool', 'Normal', 'Strong', 'No'],\n",
        "        ['Overcast', 'Cool', 'Normal', 'Strong', 'Yes'],\n",
        "        ['Overcast', 'Mild', 'High', 'Weak', 'No'],\n",
        "        ['Sunny', 'Cool', 'Normal', 'Weak', 'Yes'],\n",
        "        ['Rain', 'Mild', 'Normal', 'Weak', 'Yes']\n",
        "    ]\n",
        "    return np.array(data)\n",
        "\n",
        "train_data = create_train_data()\n",
        "print(train_data)\n"
      ]
    },
    {
      "cell_type": "code",
      "source": [
        "def compute_prior_probability(train_data):\n",
        "    y_unique = ['No', 'Yes']\n",
        "    prior_probability = np.zeros(len(y_unique))\n",
        "\n",
        "    total = train_data.shape[0]\n",
        "    for i, y in enumerate(y_unique):\n",
        "        count = np.sum(train_data[:, -1] == y)\n",
        "        prior_probability[i] = count / total\n",
        "\n",
        "    return prior_probability\n",
        "\n",
        "prior_probability = compute_prior_probability(train_data)\n",
        "print(\"P(play tennis = No)\", prior_probability[0])\n",
        "print(\"P(play tennis = Yes)\", prior_probability[1])\n"
      ],
      "metadata": {
        "id": "LE4mKKtZ1k-q"
      },
      "execution_count": null,
      "outputs": []
    },
    {
      "cell_type": "code",
      "source": [
        "def compute_conditional_probability(train_data):\n",
        "    y_unique = ['No', 'Yes']\n",
        "    conditional_probability = []\n",
        "    list_x_name = []\n",
        "\n",
        "    for i in range(0, train_data.shape[1] - 1):\n",
        "        x_unique = np.unique(train_data[:, i])\n",
        "        list_x_name.append(x_unique)\n",
        "        x_conditional_probability = np.zeros((len(y_unique), len(x_unique)))\n",
        "\n",
        "        for j, y in enumerate(y_unique):\n",
        "            for k, x in enumerate(x_unique):\n",
        "                x_conditional_probability[j, k] = np.sum((train_data[:, i] == x) & (train_data[:, -1] == y)) / np.sum(train_data[:, -1] == y)\n",
        "\n",
        "        conditional_probability.append(x_conditional_probability)\n",
        "\n",
        "    return conditional_probability, list_x_name\n",
        "\n",
        "conditional_probability, list_x_name = compute_conditional_probability(train_data)\n",
        "print(\"x1 = \", list_x_name[0])\n",
        "print(\"x2 = \", list_x_name[1])\n",
        "print(\"x3 = \", list_x_name[2])\n",
        "print(\"x4 = \", list_x_name[3])\n"
      ],
      "metadata": {
        "id": "wonl2Wgi1tAk"
      },
      "execution_count": null,
      "outputs": []
    },
    {
      "cell_type": "code",
      "source": [
        "def get_index_from_value(feature_name, list_features):\n",
        "    return np.where(list_features == feature_name)[0][0]\n",
        "\n",
        "outlook = list_x_name[0]\n",
        "i1 = get_index_from_value(\"Overcast\", outlook)\n",
        "i2 = get_index_from_value(\"Rain\", outlook)\n",
        "i3 = get_index_from_value(\"Sunny\", outlook)\n",
        "\n",
        "print(i1, i2, i3)\n"
      ],
      "metadata": {
        "id": "3qwW_x2k1u_V"
      },
      "execution_count": null,
      "outputs": []
    },
    {
      "cell_type": "code",
      "source": [
        "def train_naive_bayes(train_data):\n",
        "    # Step 1: Calculate Prior Probability\n",
        "    y_unique = ['No', 'Yes']\n",
        "    prior_probability = compute_prior_probability(train_data)\n",
        "\n",
        "    # Step 2: Calculate Conditional Probability\n",
        "    conditional_probability, list_x_name = compute_conditional_probability(train_data)\n",
        "\n",
        "    return prior_probability, conditional_probability, list_x_name\n",
        "\n",
        "prior_probability, conditional_probability, list_x_name = train_naive_bayes(train_data)\n"
      ],
      "metadata": {
        "id": "lfFfJE0E1w66"
      },
      "execution_count": null,
      "outputs": []
    },
    {
      "cell_type": "code",
      "source": [
        "def prediction_play_tennis(X, list_x_name, prior_probability, conditional_probability):\n",
        "    x1 = get_index_from_value(X[0], list_x_name[0])\n",
        "    x2 = get_index_from_value(X[1], list_x_name[1])\n",
        "    x3 = get_index_from_value(X[2], list_x_name[2])\n",
        "    x4 = get_index_from_value(X[3], list_x_name[3])\n",
        "\n",
        "    p0 = prior_probability[0]\n",
        "    p1 = prior_probability[1]\n",
        "\n",
        "    for i, x in enumerate([x1, x2, x3, x4]):\n",
        "        p0 *= conditional_probability[i][0, x]\n",
        "        p1 *= conditional_probability[i][1, x]\n",
        "\n",
        "    if p0 > p1:\n",
        "        y_pred = 0\n",
        "    else:\n",
        "        y_pred = 1\n",
        "\n",
        "    return y_pred\n",
        "\n",
        "X = ['Sunny', 'Cool', 'High', 'Strong']\n",
        "data = create_train_data()\n",
        "prior_probability, conditional_probability, list_x_name = train_naive_bayes(data)\n",
        "pred = prediction_play_tennis(X, list_x_name, prior_probability, conditional_probability)\n",
        "\n",
        "if pred:\n",
        "    print(\"Ad should go!\")\n",
        "else:\n",
        "    print(\"Ad should not go!\")\n"
      ],
      "metadata": {
        "id": "EGQOralQ1zLc"
      },
      "execution_count": null,
      "outputs": []
    }
  ]
}