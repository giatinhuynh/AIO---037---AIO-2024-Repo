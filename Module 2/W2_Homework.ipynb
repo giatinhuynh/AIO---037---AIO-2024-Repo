{
  "nbformat": 4,
  "nbformat_minor": 0,
  "metadata": {
    "colab": {
      "provenance": []
    },
    "kernelspec": {
      "name": "python3",
      "display_name": "Python 3"
    },
    "language_info": {
      "name": "python"
    }
  },
  "cells": [
    {
      "cell_type": "code",
      "source": [
        "import numpy as np\n",
        "def compute_vector_length(vector):\n",
        "    return np.sqrt(np.sum(np.square(vector)))\n",
        "\n",
        "def compute_dot_product(v1, v2):\n",
        "    return np.dot(v1, v2)\n",
        "\n",
        "def matrix_multi_vector(matrix, vector):\n",
        "    return np.dot(matrix, vector)\n",
        "\n",
        "def matrix_multi_matrix(matrix1, matrix2):\n",
        "    return np.dot(matrix1, matrix2)\n",
        "\n",
        "def inverse_matrix(matrix):\n",
        "    return np.linalg.inv(matrix)\n",
        "\n",
        "def compute_eigenvalues_eigenvectors(matrix):\n",
        "    return np.linalg.eig(matrix)\n",
        "\n",
        "def compute_cosine_similarity(v1, v2):\n",
        "    return np.dot(v1, v2) / (np.linalg.norm(v1) * np.linalg.norm(v2))\n",
        "\n",
        "\n",
        "vector = np.array([-2, 4, 9, 21])\n",
        "result = compute_vector_length(vector)\n",
        "print(round(result,2))\n",
        "\n",
        "v1 = np.array([0, 1, -1, 2])\n",
        "v2 = np.array([2, 5, 1, 0])\n",
        "result = compute_dot_product(v1, v2)\n",
        "print(result)\n",
        "\n",
        "x = np.array([[1, 2],\n",
        "              [3, 4]])\n",
        "k = np.array([1, 2])\n",
        "print(x.dot(k))\n",
        "\n",
        "x = np.array([[-1, 2],\n",
        "              [3, -4]])\n",
        "k = np.array([1, 2])\n",
        "print(x@k)\n",
        "\n",
        "m = np.array([[-1, 1, 1], [0, -4, 9]])\n",
        "v = np.array([0, 2, 1])\n",
        "print(matrix_multi_vector(m, v))\n",
        "\n",
        "m1 = np.array([[0, 1, 2], [2, -3, 1]])\n",
        "m2 = np.array([[1, -3], [6, 1], [0, -1]])\n",
        "print(matrix_multi_matrix(m1, m2))\n",
        "\n",
        "m1 = np.eye(3)\n",
        "m2 = np.array([[1, 1, 1], [2, 2, 2], [3, 3, 3]])\n",
        "print(m1@m2)\n",
        "\n",
        "m1 = np.eye(2)\n",
        "m1 = np.reshape(m1, (-1, 4))[0]\n",
        "m2 = np.array([[1, 1, 1, 1], [2, 2, 2, 2], [3, 3, 3, 3], [4, 4, 4, 4]])\n",
        "print(m1@m2)\n",
        "\n",
        "m1 = np.array([[1, 2], [3, 4]])\n",
        "m1 = np.reshape(m1, (-1, 4), \"F\")[0]\n",
        "m2 = np.array([[1, 1, 1, 1], [2, 2, 2, 2], [3, 3, 3, 3], [4, 4, 4, 4]])\n",
        "print(m1@m2)\n",
        "\n",
        "m1 = np.array([[-2, 6], [8, -4]])\n",
        "print(inverse_matrix(m1))\n",
        "\n",
        "matrix = np.array([[0.9, 0.2], [0.1, 0.8]])\n",
        "eigenvalues, eigenvectors = compute_eigenvalues_eigenvectors(matrix)\n",
        "print(eigenvectors)\n",
        "\n",
        "n = np.array([1, 2, 3, 4])\n",
        "m = np.array([1, 0, 3, 0])\n",
        "print(compute_cosine_similarity(n, m))"
      ],
      "metadata": {
        "id": "073YQihZdSLt"
      },
      "execution_count": null,
      "outputs": []
    },
    {
      "cell_type": "code",
      "source": [
        "# prompt: unzip /content/Image data-20240722T051352Z-001.zip'\n",
        "\n",
        "!unzip /content/Image\\ data-20240722T051352Z-001.zip\n"
      ],
      "metadata": {
        "colab": {
          "base_uri": "https://localhost:8080/"
        },
        "id": "MtMHkBXw9t5H",
        "outputId": "e88dd8fd-cd7a-45a4-b7da-083fef79dcbc"
      },
      "execution_count": null,
      "outputs": [
        {
          "output_type": "stream",
          "name": "stdout",
          "text": [
            "Archive:  /content/Image data-20240722T051352Z-001.zip\n",
            "  inflating: Image data/GreenBackground.png  \n",
            "  inflating: Image data/NewBackground.jpg  \n",
            "  inflating: Image data/Object.png   \n"
          ]
        }
      ]
    },
    {
      "cell_type": "code",
      "source": [
        "from google.colab.patches import cv2_imshow\n",
        "import cv2\n",
        "import numpy as np\n",
        "import matplotlib.pyplot as plt"
      ],
      "metadata": {
        "id": "SNzqVtAZ93aV"
      },
      "execution_count": null,
      "outputs": []
    },
    {
      "cell_type": "code",
      "source": [
        "# prompt: def compute_differenc(bg_img, input_img):\n",
        "\n",
        "from google.colab.patches import cv2_imshow\n",
        "import cv2\n",
        "import numpy as np\n",
        "import matplotlib.pyplot as plt\n",
        "!gdown '1autfP6l9Gbq_eEf-AibsHzJ_Olih_Ewd'\n",
        "\n",
        "!unzip /content/Image\\ data-20240722T051352Z-001.zip\n",
        "\n",
        "def compute_differenc(bg_img, input_img):\n",
        "  # convert the images to grayscale\n",
        "  gray_bg = cv2.cvtColor(bg_img, cv2.COLOR_BGR2GRAY)\n",
        "  gray_input = cv2.cvtColor(input_img, cv2.COLOR_BGR2GRAY)\n",
        "\n",
        "  # compute the absolute difference between the two images\n",
        "  diff = cv2.absdiff(gray_bg, gray_input)\n",
        "\n",
        "  # apply a threshold to the difference image to highlight the moving objects\n",
        "  _, thresh = cv2.threshold(diff, 30, 255, cv2.THRESH_BINARY)\n",
        "\n",
        "  # dilate the thresholded image to fill in any gaps in the moving objects\n",
        "  kernel = np.ones((5, 5), np.uint8)\n",
        "  dilated = cv2.dilate(thresh, kernel, iterations=1)\n",
        "\n",
        "  # find the contours of the moving objects\n",
        "  contours, _ = cv2.findContours(dilated, cv2.RETR_EXTERNAL, cv2.CHAIN_APPROX_SIMPLE)\n",
        "\n",
        "  # draw the contours on the input image\n",
        "  result = input_img.copy()\n",
        "  cv2.drawContours(result, contours, -1, (0, 255, 0), 2)\n",
        "\n",
        "  return result\n"
      ],
      "metadata": {
        "id": "N6YvqMsL-eYn"
      },
      "execution_count": null,
      "outputs": []
    },
    {
      "cell_type": "code",
      "source": [],
      "metadata": {
        "id": "sze_PfPHdPU0"
      },
      "execution_count": null,
      "outputs": []
    }
  ]
}