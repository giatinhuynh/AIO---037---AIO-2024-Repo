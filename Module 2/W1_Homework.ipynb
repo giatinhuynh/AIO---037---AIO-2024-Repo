{
 "cells": [
  {
   "cell_type": "code",
   "execution_count": 3,
   "metadata": {},
   "outputs": [
    {
     "ename": "FileNotFoundError",
     "evalue": "[Errno 2] No such file or directory: '/content/dog.jpeg'",
     "output_type": "error",
     "traceback": [
      "\u001b[1;31m---------------------------------------------------------------------------\u001b[0m",
      "\u001b[1;31mFileNotFoundError\u001b[0m                         Traceback (most recent call last)",
      "Cell \u001b[1;32mIn[3], line 5\u001b[0m\n\u001b[0;32m      2\u001b[0m \u001b[38;5;28;01mimport\u001b[39;00m \u001b[38;5;21;01mmatplotlib\u001b[39;00m\u001b[38;5;21;01m.\u001b[39;00m\u001b[38;5;21;01mimage\u001b[39;00m \u001b[38;5;28;01mas\u001b[39;00m \u001b[38;5;21;01mmpimg\u001b[39;00m\n\u001b[0;32m      4\u001b[0m \u001b[38;5;66;03m# Đọc ảnh\u001b[39;00m\n\u001b[1;32m----> 5\u001b[0m img \u001b[38;5;241m=\u001b[39m mpimg\u001b[38;5;241m.\u001b[39mimread(\u001b[38;5;124m'\u001b[39m\u001b[38;5;124m/content/dog.jpeg\u001b[39m\u001b[38;5;124m'\u001b[39m)\n\u001b[0;32m      7\u001b[0m \u001b[38;5;66;03m# Chuyển ảnh màu sang ảnh xám dựa vào phương pháp Lightness\u001b[39;00m\n\u001b[0;32m      8\u001b[0m gray_img_01 \u001b[38;5;241m=\u001b[39m (np\u001b[38;5;241m.\u001b[39mmax(img, axis\u001b[38;5;241m=\u001b[39m\u001b[38;5;241m2\u001b[39m) \u001b[38;5;241m+\u001b[39m np\u001b[38;5;241m.\u001b[39mmin(img, axis\u001b[38;5;241m=\u001b[39m\u001b[38;5;241m2\u001b[39m)) \u001b[38;5;241m/\u001b[39m \u001b[38;5;241m2\u001b[39m\n",
      "File \u001b[1;32mc:\\ProgramData\\anaconda3\\Lib\\site-packages\\matplotlib\\image.py:1525\u001b[0m, in \u001b[0;36mimread\u001b[1;34m(fname, format)\u001b[0m\n\u001b[0;32m   1518\u001b[0m \u001b[38;5;28;01mif\u001b[39;00m \u001b[38;5;28misinstance\u001b[39m(fname, \u001b[38;5;28mstr\u001b[39m) \u001b[38;5;129;01mand\u001b[39;00m \u001b[38;5;28mlen\u001b[39m(parse\u001b[38;5;241m.\u001b[39murlparse(fname)\u001b[38;5;241m.\u001b[39mscheme) \u001b[38;5;241m>\u001b[39m \u001b[38;5;241m1\u001b[39m:\n\u001b[0;32m   1519\u001b[0m     \u001b[38;5;66;03m# Pillow doesn't handle URLs directly.\u001b[39;00m\n\u001b[0;32m   1520\u001b[0m     \u001b[38;5;28;01mraise\u001b[39;00m \u001b[38;5;167;01mValueError\u001b[39;00m(\n\u001b[0;32m   1521\u001b[0m         \u001b[38;5;124m\"\u001b[39m\u001b[38;5;124mPlease open the URL for reading and pass the \u001b[39m\u001b[38;5;124m\"\u001b[39m\n\u001b[0;32m   1522\u001b[0m         \u001b[38;5;124m\"\u001b[39m\u001b[38;5;124mresult to Pillow, e.g. with \u001b[39m\u001b[38;5;124m\"\u001b[39m\n\u001b[0;32m   1523\u001b[0m         \u001b[38;5;124m\"\u001b[39m\u001b[38;5;124m``np.array(PIL.Image.open(urllib.request.urlopen(url)))``.\u001b[39m\u001b[38;5;124m\"\u001b[39m\n\u001b[0;32m   1524\u001b[0m         )\n\u001b[1;32m-> 1525\u001b[0m \u001b[38;5;28;01mwith\u001b[39;00m img_open(fname) \u001b[38;5;28;01mas\u001b[39;00m image:\n\u001b[0;32m   1526\u001b[0m     \u001b[38;5;28;01mreturn\u001b[39;00m (_pil_png_to_float_array(image)\n\u001b[0;32m   1527\u001b[0m             \u001b[38;5;28;01mif\u001b[39;00m \u001b[38;5;28misinstance\u001b[39m(image, PIL\u001b[38;5;241m.\u001b[39mPngImagePlugin\u001b[38;5;241m.\u001b[39mPngImageFile) \u001b[38;5;28;01melse\u001b[39;00m\n\u001b[0;32m   1528\u001b[0m             pil_to_array(image))\n",
      "File \u001b[1;32mc:\\ProgramData\\anaconda3\\Lib\\site-packages\\PIL\\Image.py:3247\u001b[0m, in \u001b[0;36mopen\u001b[1;34m(fp, mode, formats)\u001b[0m\n\u001b[0;32m   3244\u001b[0m     filename \u001b[38;5;241m=\u001b[39m fp\n\u001b[0;32m   3246\u001b[0m \u001b[38;5;28;01mif\u001b[39;00m filename:\n\u001b[1;32m-> 3247\u001b[0m     fp \u001b[38;5;241m=\u001b[39m builtins\u001b[38;5;241m.\u001b[39mopen(filename, \u001b[38;5;124m\"\u001b[39m\u001b[38;5;124mrb\u001b[39m\u001b[38;5;124m\"\u001b[39m)\n\u001b[0;32m   3248\u001b[0m     exclusive_fp \u001b[38;5;241m=\u001b[39m \u001b[38;5;28;01mTrue\u001b[39;00m\n\u001b[0;32m   3250\u001b[0m \u001b[38;5;28;01mtry\u001b[39;00m:\n",
      "\u001b[1;31mFileNotFoundError\u001b[0m: [Errno 2] No such file or directory: '/content/dog.jpeg'"
     ]
    }
   ],
   "source": [
    "import numpy as np\n",
    "import matplotlib.image as mpimg\n",
    "\n",
    "# Đọc ảnh\n",
    "img = mpimg.imread('/content/dog.jpeg')\n",
    "\n",
    "# Chuyển ảnh màu sang ảnh xám dựa vào phương pháp Lightness\n",
    "gray_img_01 = (np.max(img, axis=2) + np.min(img, axis=2)) / 2\n",
    "\n",
    "# In giá trị pixel đầu tiên\n",
    "print(gray_img_01[0, 0])\n"
   ]
  },
  {
   "cell_type": "code",
   "execution_count": null,
   "metadata": {},
   "outputs": [],
   "source": [
    "import numpy as np\n",
    "import matplotlib.image as mpimg\n",
    "\n",
    "# Đọc ảnh\n",
    "img = mpimg.imread('/content/dog.jpeg')\n",
    "\n",
    "# Chuyển ảnh màu sang ảnh xám dựa vào phương pháp Average\n",
    "gray_img_02 = np.mean(img, axis=2)\n",
    "\n",
    "# In giá trị pixel đầu tiên\n",
    "print(gray_img_02[0, 0])\n"
   ]
  },
  {
   "cell_type": "code",
   "execution_count": null,
   "metadata": {},
   "outputs": [],
   "source": [
    "import numpy as np\n",
    "import matplotlib.image as mpimg\n",
    "\n",
    "# Đọc ảnh\n",
    "img = mpimg.imread('/content/dog.jpeg')\n",
    "\n",
    "# Chuyển ảnh màu sang ảnh xám dựa vào phương pháp Luminosity\n",
    "gray_img_02 = 0.21 * img[:, :, 0] + 0.72 * img[:, :, 1] + 0.07 * img[:, :, 2]\n",
    "\n",
    "# In giá trị pixel đầu tiên\n",
    "print(gray_img_02[0, 0])\n"
   ]
  },
  {
   "cell_type": "code",
   "execution_count": null,
   "metadata": {},
   "outputs": [],
   "source": [
    "import pandas as pd\n",
    "\n",
    "# Đọc dữ liệu\n",
    "df = pd.read_csv('/content/advertising.csv')  # Replace with the actual path to your CSV file\n",
    "\n",
    "# Câu hỏi 15: Lấy giá trị lớn nhất và chỉ mục tương ứng của nó trên cột Sales\n",
    "max_sales = df['Sales'].max()\n",
    "max_sales_index = df['Sales'].idxmax()\n",
    "print(f\"Max: {max_sales} - Index: {max_sales_index}\")\n",
    "\n",
    "# Câu hỏi 16: Giá trị trung bình của cột TV là\n",
    "mean_tv = df['TV'].mean()\n",
    "print(f\"Mean TV: {mean_tv}\")\n",
    "\n",
    "# Câu hỏi 17: Số lượng bản ghi có giá trị tại cột Sales lớn hơn hoặc bằng 20\n",
    "count_sales_ge_20 = df[df['Sales'] >= 20].shape[0]\n",
    "print(f\"Count of Sales >= 20: {count_sales_ge_20}\")\n",
    "\n",
    "# Câu hỏi 18: Giá trị trung bình của cột Radio thoả mãn điều kiện giá trị tương ứng trên cột Sales lớn hơn hoặc bằng 15\n",
    "mean_radio_sales_ge_15 = df[df['Sales'] >= 15]['Radio'].mean()\n",
    "print(f\"Mean Radio for Sales >= 15: {mean_radio_sales_ge_15}\")\n",
    "\n",
    "# Câu hỏi 19: Tính tổng các hàng của cột Sales với điều kiện giá trị Newspaper lớn hơn giá trị trung bình của cột Newspaper\n",
    "mean_newspaper = df['Newspaper'].mean()\n",
    "total_sales_newspaper_gt_mean = df[df['Newspaper'] > mean_newspaper]['Sales'].sum()\n",
    "print(f\"Total Sales for Newspaper > mean: {total_sales_newspaper_gt_mean}\")\n",
    "\n",
    "# Câu hỏi 20: Tạo ra mảng scores theo điều kiện giá trị của cột Sales so với giá trị trung bình\n",
    "mean_sales = df['Sales'].mean()\n",
    "scores = ['Good' if x > mean_sales else 'Bad' if x < mean_sales else 'Average' for x in df['Sales']]\n",
    "print(f\"scores[7:10]: {scores[7:10]}\")\n",
    "\n",
    "# Câu hỏi 21: Tạo ra mảng scores theo điều kiện giá trị của cột Sales so với giá trị gần nhất với giá trị trung bình của cột Sales\n",
    "closest_to_mean_sales = df['Sales'].iloc[(df['Sales'] - mean_sales).abs().argsort()[:1]].values[0]\n",
    "scores_closest = ['Good' if x > closest_to_mean_sales else 'Bad' if x < closest_to_mean_sales else 'Average' for x in df['Sales']]\n",
    "print(f\"scores_closest[7:10]: {scores_closest[7:10]}\")\n"
   ]
  }
 ],
 "metadata": {
  "kernelspec": {
   "display_name": "base",
   "language": "python",
   "name": "python3"
  },
  "language_info": {
   "codemirror_mode": {
    "name": "ipython",
    "version": 3
   },
   "file_extension": ".py",
   "mimetype": "text/x-python",
   "name": "python",
   "nbconvert_exporter": "python",
   "pygments_lexer": "ipython3",
   "version": "3.11.7"
  }
 },
 "nbformat": 4,
 "nbformat_minor": 2
}
