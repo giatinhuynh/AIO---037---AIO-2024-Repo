{
 "cells": [
  {
   "cell_type": "code",
   "execution_count": 1,
   "metadata": {},
   "outputs": [
    {
     "name": "stdout",
     "output_type": "stream",
     "text": [
      "0.33\n"
     ]
    }
   ],
   "source": [
    "import math\n",
    "def calc_f1_score(tp, fp, fn):\n",
    "    result = 2 * tp / (2 * tp + fp + fn)\n",
    "    return result\n",
    "\n",
    "assert round(calc_f1_score(tp = 2, fp = 3, fn = 5), 2) == 0.33\n",
    "print(round(calc_f1_score(tp = 2, fp = 3, fn = 5), 2))"
   ]
  },
  {
   "cell_type": "code",
   "execution_count": 3,
   "id": "d1486be1",
   "metadata": {},
   "outputs": [
    {
     "ename": "AttributeError",
     "evalue": "'int' object has no attribute 'is_number'",
     "output_type": "error",
     "traceback": [
      "\u001b[1;31m---------------------------------------------------------------------------\u001b[0m",
      "\u001b[1;31mAttributeError\u001b[0m                            Traceback (most recent call last)",
      "Cell \u001b[1;32mIn[3], line 8\u001b[0m\n\u001b[0;32m      5\u001b[0m     \u001b[38;5;28;01melse\u001b[39;00m:\n\u001b[0;32m      6\u001b[0m         \u001b[38;5;28;01mreturn\u001b[39;00m \u001b[38;5;28;01mFalse\u001b[39;00m\n\u001b[1;32m----> 8\u001b[0m \u001b[38;5;28mprint\u001b[39m(\u001b[43mis_number\u001b[49m\u001b[43m(\u001b[49m\u001b[38;5;241;43m1\u001b[39;49m\u001b[43m)\u001b[49m)\n\u001b[0;32m      9\u001b[0m \u001b[38;5;28mprint\u001b[39m(is_number(\u001b[38;5;124m\"\u001b[39m\u001b[38;5;124ma\u001b[39m\u001b[38;5;124m\"\u001b[39m))\n",
      "Cell \u001b[1;32mIn[3], line 3\u001b[0m, in \u001b[0;36mis_number\u001b[1;34m(s)\u001b[0m\n\u001b[0;32m      2\u001b[0m \u001b[38;5;28;01mdef\u001b[39;00m \u001b[38;5;21mis_number\u001b[39m(s):\n\u001b[1;32m----> 3\u001b[0m     \u001b[38;5;28;01mif\u001b[39;00m \u001b[43ms\u001b[49m\u001b[38;5;241;43m.\u001b[39;49m\u001b[43mis_number\u001b[49m():\n\u001b[0;32m      4\u001b[0m         \u001b[38;5;28;01mreturn\u001b[39;00m \u001b[38;5;28;01mTrue\u001b[39;00m\n\u001b[0;32m      5\u001b[0m     \u001b[38;5;28;01melse\u001b[39;00m:\n",
      "\u001b[1;31mAttributeError\u001b[0m: 'int' object has no attribute 'is_number'"
     ]
    }
   ],
   "source": [
    "import math\n",
    "def is_number(s):\n",
    "    if s.is_number():\n",
    "        return True\n",
    "    else:\n",
    "        return False\n",
    "\n",
    "print(is_number(1))\n",
    "print(is_number(\"a\"))\n"
   ]
  },
  {
   "cell_type": "code",
   "execution_count": 9,
   "id": "2bb0e7e3",
   "metadata": {},
   "outputs": [
    {
     "ename": "AssertionError",
     "evalue": "",
     "output_type": "error",
     "traceback": [
      "\u001b[1;31m---------------------------------------------------------------------------\u001b[0m",
      "\u001b[1;31mAssertionError\u001b[0m                            Traceback (most recent call last)",
      "Cell \u001b[1;32mIn[9], line 4\u001b[0m\n\u001b[0;32m      1\u001b[0m \u001b[38;5;28;01mdef\u001b[39;00m \u001b[38;5;21msigmoid\u001b[39m(x):\n\u001b[0;32m      2\u001b[0m     \u001b[38;5;28;01mreturn\u001b[39;00m \u001b[38;5;241m1\u001b[39m \u001b[38;5;241m/\u001b[39m \u001b[38;5;241m1\u001b[39m \u001b[38;5;241m+\u001b[39m math\u001b[38;5;241m.\u001b[39mexp(\u001b[38;5;241m-\u001b[39mx)\n\u001b[1;32m----> 4\u001b[0m \u001b[38;5;28;01massert\u001b[39;00m \u001b[38;5;28mround\u001b[39m(sigmoid(\u001b[38;5;241m3\u001b[39m), \u001b[38;5;241m2\u001b[39m) \u001b[38;5;241m==\u001b[39m \u001b[38;5;241m0.95\u001b[39m\n\u001b[0;32m      5\u001b[0m \u001b[38;5;28mprint\u001b[39m(\u001b[38;5;28mround\u001b[39m(sigmoid(\u001b[38;5;241m2\u001b[39m), \u001b[38;5;241m2\u001b[39m))\n",
      "\u001b[1;31mAssertionError\u001b[0m: "
     ]
    }
   ],
   "source": [
    "def sigmoid(x):\n",
    "    return 1 / 1 + math.exp(-x)\n",
    "\n",
    "assert round(sigmoid(3), 2) == 0.95\n",
    "print(round(sigmoid(2), 2))"
   ]
  },
  {
   "cell_type": "code",
   "execution_count": 2,
   "id": "d735d3dd",
   "metadata": {},
   "outputs": [
    {
     "ename": "NameError",
     "evalue": "name 'exp' is not defined",
     "output_type": "error",
     "traceback": [
      "\u001b[1;31m---------------------------------------------------------------------------\u001b[0m",
      "\u001b[1;31mNameError\u001b[0m                                 Traceback (most recent call last)",
      "Cell \u001b[1;32mIn[2], line 9\u001b[0m\n\u001b[0;32m      6\u001b[0m         \u001b[38;5;28;01mreturn\u001b[39;00m x\n\u001b[0;32m      8\u001b[0m \u001b[38;5;28;01massert\u001b[39;00m \u001b[38;5;28mround\u001b[39m(calc_elu(\u001b[38;5;241m1\u001b[39m), \u001b[38;5;241m2\u001b[39m) \u001b[38;5;241m==\u001b[39m \u001b[38;5;241m1\u001b[39m   \n\u001b[1;32m----> 9\u001b[0m \u001b[38;5;28mprint\u001b[39m(\u001b[38;5;28mround\u001b[39m(\u001b[43mcalc_elu\u001b[49m\u001b[43m(\u001b[49m\u001b[38;5;241;43m-\u001b[39;49m\u001b[38;5;241;43m1\u001b[39;49m\u001b[43m)\u001b[49m, \u001b[38;5;241m2\u001b[39m))\n",
      "Cell \u001b[1;32mIn[2], line 4\u001b[0m, in \u001b[0;36mcalc_elu\u001b[1;34m(x)\u001b[0m\n\u001b[0;32m      2\u001b[0m \u001b[38;5;28;01mdef\u001b[39;00m \u001b[38;5;21mcalc_elu\u001b[39m(x):\n\u001b[0;32m      3\u001b[0m     \u001b[38;5;28;01mif\u001b[39;00m x \u001b[38;5;241m<\u001b[39m\u001b[38;5;241m=\u001b[39m \u001b[38;5;241m0\u001b[39m:\n\u001b[1;32m----> 4\u001b[0m         \u001b[38;5;28;01mreturn\u001b[39;00m \u001b[38;5;241m0.01\u001b[39m \u001b[38;5;241m*\u001b[39m (math(\u001b[43mexp\u001b[49m(x) \u001b[38;5;241m-\u001b[39m \u001b[38;5;241m1\u001b[39m))\n\u001b[0;32m      5\u001b[0m     \u001b[38;5;28;01melse\u001b[39;00m:\n\u001b[0;32m      6\u001b[0m         \u001b[38;5;28;01mreturn\u001b[39;00m x\n",
      "\u001b[1;31mNameError\u001b[0m: name 'exp' is not defined"
     ]
    }
   ],
   "source": [
    "import math\n",
    "def calc_elu(x):\n",
    "    if x <= 0:\n",
    "        return 0.01 * (math(exp(x) - 1))\n",
    "    else:\n",
    "        return x\n",
    "\n",
    "assert round(calc_elu(1), 2) == 1   \n",
    "print(round(calc_elu(-1), 2))"
   ]
  },
  {
   "cell_type": "code",
   "execution_count": 6,
   "id": "a4ef84b9",
   "metadata": {},
   "outputs": [
    {
     "name": "stdout",
     "output_type": "stream",
     "text": [
      "1.05\n"
     ]
    }
   ],
   "source": [
    "import math\n",
    "def calc_activation_func(x, act_name):\n",
    "    if act_name == \"sigmoid\":\n",
    "        return 1 / 1 + math.exp(-x)\n",
    "    elif act_name == \"relu\":\n",
    "        return max(0, x)\n",
    "\n",
    "assert calc_activation_func(1, \"relu\") == 1\n",
    "print(round(calc_activation_func(3, \"sigmoid\"), 2))"
   ]
  },
  {
   "cell_type": "code",
   "execution_count": 8,
   "id": "5a322471",
   "metadata": {},
   "outputs": [
    {
     "name": "stdout",
     "output_type": "stream",
     "text": [
      "7\n"
     ]
    }
   ],
   "source": [
    "def calc_ae(y, y_hat):\n",
    "    return abs(y - y_hat)\n",
    "\n",
    "assert calc_ae(1, 6) == 5\n",
    "print(calc_ae(2, 9))"
   ]
  },
  {
   "cell_type": "code",
   "execution_count": 2,
   "id": "963f3b7a",
   "metadata": {},
   "outputs": [
    {
     "name": "stdout",
     "output_type": "stream",
     "text": [
      "1\n"
     ]
    }
   ],
   "source": [
    "def calc_se(y, y_hat):\n",
    "    return (y - y_hat)**2\n",
    "\n",
    "assert calc_se(4, 2) == 4\n",
    "print(calc_se(2, 1))"
   ]
  },
  {
   "cell_type": "code",
   "execution_count": 4,
   "id": "bab57511",
   "metadata": {},
   "outputs": [
    {
     "name": "stdout",
     "output_type": "stream",
     "text": [
      "0.0016\n"
     ]
    }
   ],
   "source": [
    "import math\n",
    "def approx_sin(x, n):\n",
    "    result = 0\n",
    "    for i in range(n):\n",
    "        result += (-1)**i * x**(2 * i + 1) / math.factorial(2 * i + 1)\n",
    "    return result\n",
    "\n",
    "assert round(approx_sin(1, 10), 4) == 0.8415\n",
    "print(round(approx_sin(3.14, 10), 4))"
   ]
  },
  {
   "cell_type": "code",
   "execution_count": 6,
   "id": "61bfb117",
   "metadata": {},
   "outputs": [
    {
     "name": "stdout",
     "output_type": "stream",
     "text": [
      "-1.0\n"
     ]
    }
   ],
   "source": [
    "import math\n",
    "def approx_cos(x, n):\n",
    "    result = 0\n",
    "    for i in range(n):\n",
    "        result += (-1)**i * x**(2 * i) / math.factorial(2 * i)\n",
    "    return result\n",
    "\n",
    "assert round(approx_cos(1, 10), 2) == 0.54  \n",
    "print(round(approx_cos(3.14, 10), 2))"
   ]
  },
  {
   "cell_type": "code",
   "execution_count": 9,
   "id": "f95f6b1a",
   "metadata": {},
   "outputs": [
    {
     "name": "stdout",
     "output_type": "stream",
     "text": [
      "11.53\n"
     ]
    }
   ],
   "source": [
    "import math\n",
    "def approx_sinh(x, n):\n",
    "    result = 0\n",
    "    for i in range(n):\n",
    "        result += x**(2 * i + 1) / math.factorial(2 * i + 1)\n",
    "    return result\n",
    "\n",
    "assert round(approx_sinh(1, 10), 2) == 1.18\n",
    "print(round(approx_sinh(3.14, 10), 2))"
   ]
  },
  {
   "cell_type": "code",
   "execution_count": 11,
   "id": "80c49e84",
   "metadata": {},
   "outputs": [
    {
     "name": "stdout",
     "output_type": "stream",
     "text": [
      "11.57\n"
     ]
    }
   ],
   "source": [
    "import math\n",
    "def approx_cosh(x, n):\n",
    "    result = 0\n",
    "    for i in range(n):\n",
    "        result += x**(2 * i) / math.factorial(2 * i)\n",
    "    return result\n",
    "\n",
    "assert round(approx_cosh(1, 10), 2) == 1.54\n",
    "print(round(approx_cosh(3.14, 10), 2))"
   ]
  },
  {
   "cell_type": "code",
   "execution_count": null,
   "id": "b7fcfbb7",
   "metadata": {},
   "outputs": [],
   "source": []
  }
 ],
 "metadata": {
  "kernelspec": {
   "display_name": "Python 3",
   "language": "python",
   "name": "python3"
  },
  "language_info": {
   "codemirror_mode": {
    "name": "ipython",
    "version": 3
   },
   "file_extension": ".py",
   "mimetype": "text/x-python",
   "name": "python",
   "nbconvert_exporter": "python",
   "pygments_lexer": "ipython3",
   "version": "3.11.7"
  }
 },
 "nbformat": 4,
 "nbformat_minor": 5
}
